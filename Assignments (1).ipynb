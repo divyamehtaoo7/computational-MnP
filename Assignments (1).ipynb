{
 "cells": [
  {
   "cell_type": "markdown",
   "metadata": {},
   "source": [
    "# **Basic Python**"
   ]
  },
  {
   "cell_type": "markdown",
   "metadata": {},
   "source": [
    "## 1.a \n",
    "Give a function F that takes a single argument n. This function should print a sequence of n strings as described in the examples below: <br>\n",
    "Ex: **n = 3**\n",
    "\n",
    "--A--<br>\n",
    "-BAB-<br>\n",
    "CBABC<br>\n",
    "\n",
    "**n = 4**\n",
    "\n",
    "---A---<br>\n",
    "--BAB--<br>\n",
    "-CBABC-<br>\n",
    "DCBABCD"
   ]
  },
  {
   "cell_type": "code",
   "execution_count": null,
   "metadata": {},
   "outputs": [],
   "source": [
    "def F(n):\n",
    "    alphabet = \"ABCDEFGHIJKLMNOPQRSTUVWXYZ\"\n",
    "    for i in range(n):\n",
    "        left_padding = '-' * (n - i - 1)\n",
    "        middle_sequence = alphabet[i] + ''.join(alphabet[i - 1::-1]) if i > 0 else alphabet[i]\n",
    "        right_padding = '-' * (n - i - 1)\n",
    "        line = f\"{left_padding}{middle_sequence}{right_padding}\"\n",
    "        print(line)\n",
    "\n",
    "# Tests\n",
    "print(\"Output for F(10):\")\n",
    "F(10)\n",
    "\n",
    "print(\"\\nOutput for F(6):\")\n",
    "F(6)"
   ]
  },
  {
   "cell_type": "markdown",
   "metadata": {},
   "source": [
    "## 1.b\n",
    "Make a function F that takes only one argument, a dictionary(dict) d.\n",
    "The keys of d are integers and the values of d are a tuple of type (x (int), y (int)).\n",
    "You must print out the dict in the format \"-key-, -x-, -y-\" with each entry in a new line. Print it for each of the three sorted orders, by key values ascending, by x values descending, by y values ascending."
   ]
  },
  {
   "cell_type": "code",
   "execution_count": 35,
   "metadata": {},
   "outputs": [
    {
     "name": "stdout",
     "output_type": "stream",
     "text": [
      "Sorted by keys (ascending):\n",
      "-1-, -1-, -2-\n",
      "-2-, --1-, -4-\n",
      "-4-, -2-, -3-\n",
      "-5-, --4-, -3-\n",
      "\n",
      "Sorted by x values (descending):\n",
      "-4-, -2-, -3-\n",
      "-1-, -1-, -2-\n",
      "-2-, --1-, -4-\n",
      "-5-, --4-, -3-\n",
      "\n",
      "Sorted by y values (ascending):\n",
      "-1-, -1-, -2-\n",
      "-5-, --4-, -3-\n",
      "-4-, -2-, -3-\n",
      "-2-, --1-, -4-\n",
      "Sorted by keys (ascending):\n",
      "--8-, -4-, -2-\n",
      "-5-, -9-, --10-\n",
      "-6-, --3-, -4-\n",
      "-7-, -2-, -1-\n",
      "\n",
      "Sorted by x values (descending):\n",
      "-5-, -9-, --10-\n",
      "--8-, -4-, -2-\n",
      "-7-, -2-, -1-\n",
      "-6-, --3-, -4-\n",
      "\n",
      "Sorted by y values (ascending):\n",
      "-5-, -9-, --10-\n",
      "-7-, -2-, -1-\n",
      "--8-, -4-, -2-\n",
      "-6-, --3-, -4-\n"
     ]
    }
   ],
   "source": [
    "def F(d):\n",
    "    sorted_keys = sorted(d)\n",
    "    sorted_by_x_desc = sorted(d.items(), key=lambda item: item[1][0], reverse=True)\n",
    "    sorted_by_y_asc = sorted(d.items(), key=lambda item: item[1][1])\n",
    "\n",
    "    print(\"Sorted by keys (ascending):\")\n",
    "    for key in sorted_keys:\n",
    "        value_x, value_y = d[key]\n",
    "        print(f\"-{key}-, -{value_x}-, -{value_y}-\")\n",
    "\n",
    "    print(\"\\nSorted by x values (descending):\")\n",
    "    for key, (value_x, value_y) in sorted_by_x_desc:\n",
    "        print(f\"-{key}-, -{value_x}-, -{value_y}-\")\n",
    "\n",
    "    print(\"\\nSorted by y values (ascending):\")\n",
    "    for key, (value_x, value_y) in sorted_by_y_asc:\n",
    "        print(f\"-{key}-, -{value_x}-, -{value_y}-\")\n",
    "\n",
    "# Tests\n",
    "F({1: (1, 2), 2: (-1, 4), 5: (-4, 3), 4: (2, 3)})\n",
    "F({-8: (4, 2), 6: (-3, 4), 7: (2, 1), 5: (9, -10)})\n"
   ]
  },
  {
   "cell_type": "markdown",
   "metadata": {},
   "source": [
    "## 2 Working with Student Records\n",
    "\n",
    "Use the data in **student_records.csv** to complete the given tasks. Do not include any external libraries. Use a Python dictionary if required.\n",
    "\n",
    "### Reference\n",
    "- [Python Dictionaries](https://www.w3schools.com/python/python_dictionaries.asp)\n"
   ]
  },
  {
   "cell_type": "markdown",
   "metadata": {},
   "source": [
    "#### 2.a: open the student_records.csv file and print out the first 10 rows"
   ]
  },
  {
   "cell_type": "code",
   "execution_count": 36,
   "metadata": {},
   "outputs": [
    {
     "name": "stdout",
     "output_type": "stream",
     "text": [
      "Header: roll_number, department, credit, course_name, course_type, grade\n",
      "\n",
      "First 10 rows:\n",
      "588946, MA, 3, EC250, hasmed_elective, AB\n",
      "145372, EP, 4, EP407, hasmed_elective, CC\n",
      "834515, MA, 8, EP885, hasmed_elective, BB\n",
      "344265, CSE, 6, CSE699, honours, AB\n",
      "358405, MA, 3, EE460, minor, AP\n",
      "781075, CE, 8, CE540, honours, CC\n",
      "180828, CSE, 6, CE880, minor, AB\n",
      "981238, MM, 4, CSE226, minor, AB\n",
      "836881, MM, 8, MM530, core, AA\n",
      "310604, EE, 8, EE202, core, AB\n"
     ]
    }
   ],
   "source": [
    "import csv\n",
    "\n",
    "\n",
    "csv_file_path = r\"C:\\Users\\divya\\Downloads\\student_records.csv\"\n",
    "\n",
    "\n",
    "with open(csv_file_path, \"r\") as csv_file:\n",
    "    csv_reader = csv.reader(csv_file)\n",
    "    headers = next(csv_reader)\n",
    "    print(\"Header:\", \", \".join(headers))\n",
    "\n",
    "    print(\"\\nFirst 10 rows:\")\n",
    "    for index, record in enumerate(csv_reader):\n",
    "        if index < 10:\n",
    "            print(\", \".join(record))\n",
    "        else:\n",
    "            break"
   ]
  },
  {
   "cell_type": "markdown",
   "metadata": {},
   "source": [
    "#### 2.b: Print out the total credits and calculte CPI of each student. \n",
    "CPI is the weighted average of core courses, and electives (weights being the letter grades converted to number AP,AA=10, AB=9, BB=8, BC=7, CC=6)"
   ]
  },
  {
   "cell_type": "code",
   "execution_count": 37,
   "metadata": {},
   "outputs": [
    {
     "name": "stdout",
     "output_type": "stream",
     "text": [
      "Roll Number | Total Credits | CPI\n",
      "588946 | 199 | 8.69\n",
      "145372 | 173 | 7.75\n",
      "834515 | 199 | 8.22\n",
      "344265 | 153 | 8.70\n",
      "358405 | 206 | 8.59\n",
      "781075 | 246 | 8.17\n",
      "180828 | 177 | 8.10\n",
      "981238 | 168 | 8.24\n",
      "836881 | 246 | 8.39\n",
      "310604 | 198 | 8.33\n",
      "847809 | 261 | 8.21\n",
      "773982 | 264 | 8.07\n",
      "500658 | 208 | 8.17\n",
      "810863 | 192 | 8.15\n",
      "124663 | 229 | 8.13\n",
      "364146 | 225 | 8.40\n",
      "871746 | 216 | 8.21\n",
      "270007 | 241 | 8.03\n",
      "597353 | 200 | 8.12\n",
      "986057 | 199 | 8.07\n",
      "718510 | 184 | 8.43\n",
      "836431 | 160 | 7.90\n",
      "379479 | 260 | 8.25\n",
      "582912 | 221 | 8.66\n",
      "788020 | 193 | 8.02\n",
      "613401 | 209 | 8.44\n",
      "144528 | 228 | 8.16\n",
      "485484 | 216 | 8.36\n",
      "680096 | 153 | 8.05\n",
      "199713 | 172 | 8.29\n",
      "851029 | 161 | 8.32\n",
      "845623 | 237 | 8.38\n",
      "150503 | 173 | 8.29\n",
      "214270 | 229 | 7.88\n",
      "517837 | 205 | 8.58\n",
      "482623 | 254 | 8.40\n",
      "721490 | 235 | 8.34\n",
      "955757 | 251 | 8.29\n",
      "589528 | 153 | 8.73\n",
      "143856 | 201 | 8.49\n",
      "571782 | 217 | 8.42\n",
      "973158 | 193 | 8.51\n",
      "703403 | 254 | 8.34\n",
      "960395 | 262 | 8.63\n",
      "521087 | 223 | 7.91\n",
      "461971 | 252 | 8.29\n",
      "879634 | 203 | 8.74\n",
      "716985 | 185 | 8.18\n",
      "194063 | 157 | 8.14\n",
      "265922 | 236 | 8.35\n",
      "283796 | 211 | 8.82\n",
      "203200 | 157 | 8.79\n",
      "301135 | 206 | 8.33\n",
      "327122 | 246 | 8.16\n",
      "381526 | 160 | 8.43\n",
      "534763 | 158 | 7.93\n",
      "391848 | 217 | 8.44\n",
      "329535 | 157 | 8.23\n",
      "971123 | 210 | 7.96\n",
      "207443 | 161 | 8.30\n",
      "488661 | 248 | 8.60\n",
      "782129 | 184 | 8.54\n",
      "928288 | 191 | 8.51\n",
      "581858 | 216 | 8.05\n",
      "733782 | 169 | 8.42\n",
      "282482 | 228 | 8.29\n",
      "572815 | 212 | 8.32\n",
      "608952 | 251 | 8.33\n",
      "628849 | 183 | 8.72\n",
      "630568 | 217 | 8.24\n",
      "388969 | 229 | 8.31\n",
      "159438 | 176 | 8.38\n",
      "478606 | 244 | 8.32\n",
      "995208 | 157 | 7.78\n",
      "841365 | 177 | 7.99\n",
      "870642 | 161 | 8.02\n",
      "970791 | 220 | 8.12\n",
      "143142 | 234 | 8.78\n",
      "998293 | 207 | 8.70\n",
      "907454 | 245 | 8.27\n",
      "681499 | 234 | 8.26\n",
      "888886 | 207 | 8.27\n",
      "608522 | 159 | 8.61\n",
      "362471 | 214 | 7.93\n",
      "465496 | 168 | 8.30\n",
      "208100 | 182 | 8.59\n",
      "138296 | 200 | 8.28\n",
      "775967 | 197 | 8.43\n",
      "692318 | 216 | 8.17\n",
      "461584 | 234 | 8.24\n",
      "626000 | 210 | 8.43\n",
      "458200 | 190 | 8.39\n",
      "581065 | 196 | 8.22\n",
      "787967 | 192 | 8.41\n",
      "381227 | 179 | 8.22\n",
      "750259 | 209 | 8.35\n",
      "881983 | 169 | 8.33\n",
      "294697 | 269 | 8.57\n",
      "816041 | 158 | 8.46\n",
      "993835 | 175 | 8.43\n"
     ]
    }
   ],
   "source": [
    "import csv\n",
    "\n",
    "grades_weight = {\"AP\": 10, \"AA\": 10, \"AB\": 9, \"BB\": 8, \"BC\": 7, \"CC\": 6}\n",
    "csv_path = r\"C:\\Users\\divya\\Downloads\\student_records.csv\"\n",
    "\n",
    "student_cpi = {}\n",
    "\n",
    "with open(csv_path, \"r\") as csv_file:\n",
    "    csv_reader = csv.DictReader(csv_file)\n",
    "    for record in csv_reader:\n",
    "        roll_no = record[\"roll_number\"]\n",
    "        course_credit = int(record[\"credit\"])\n",
    "        student_grade = record[\"grade\"]\n",
    "        if roll_no not in student_cpi:\n",
    "            student_cpi[roll_no] = {\"credits\": 0, \"weighted_sum\": 0}\n",
    "        student_cpi[roll_no][\"credits\"] += course_credit\n",
    "        student_cpi[roll_no][\"weighted_sum\"] += grades_weight[student_grade] * course_credit\n",
    "\n",
    "print(\"Roll Number | Total Credits | CPI\")\n",
    "for roll_no, details in student_cpi.items():\n",
    "    credits = details[\"credits\"]\n",
    "    weighted_sum = details[\"weighted_sum\"]\n",
    "    cpi = weighted_sum / credits if credits > 0 else 0\n",
    "    print(f\"{roll_no} | {credits} | {cpi:.2f}\")\n",
    "\n"
   ]
  },
  {
   "cell_type": "markdown",
   "metadata": {},
   "source": [
    "#### 2.c: Print out the roll numbers of all students who meet the graduation requirements \n",
    "Atleast 20 credist of core course, 15 credits of department elective, 10 credits of flexible elective and 5 credits of hasmed electives"
   ]
  },
  {
   "cell_type": "code",
   "execution_count": 38,
   "metadata": {},
   "outputs": [
    {
     "name": "stdout",
     "output_type": "stream",
     "text": [
      "Roll numbers of students meeting graduation requirements:\n",
      "['588946', '834515', '781075', '180828', '981238', '836881', '310604', '773982', '500658', '810863', '124663', '871746', '986057', '379479', '144528', '485484', '845623', '150503', '214270', '517837', '482623', '721490', '955757', '143856', '571782', '973158', '703403', '960395', '521087', '461971', '879634', '716985', '265922', '283796', '203200', '327122', '534763', '391848', '971123', '207443', '488661', '782129', '928288', '581858', '282482', '572815', '608952', '628849', '630568', '388969', '159438', '970791', '143142', '998293', '681499', '888886', '608522', '362471', '692318', '626000', '581065', '787967', '381227', '750259', '881983', '294697']\n"
     ]
    }
   ],
   "source": [
    "import csv\n",
    "\n",
    "csv_path = r\"C:\\Users\\divya\\Downloads\\student_records.csv\"\n",
    "\n",
    "graduation_requirements = {\n",
    "    \"core\": 20,\n",
    "    \"department_elective\": 15,\n",
    "    \"flexible_elective\": 10,\n",
    "    \"hasmed_elective\": 5,\n",
    "}\n",
    "\n",
    "credits_summary = {}\n",
    "\n",
    "with open(csv_path, \"r\") as csv_file:\n",
    "    csv_reader = csv.DictReader(csv_file)\n",
    "    for record in csv_reader:\n",
    "        student_id = record[\"roll_number\"]\n",
    "        course_category = record[\"course_type\"]\n",
    "        course_credits = int(record[\"credit\"])\n",
    "\n",
    "        if student_id not in credits_summary:\n",
    "            credits_summary[student_id] = {\n",
    "                \"core\": 0,\n",
    "                \"department_elective\": 0,\n",
    "                \"flexible_elective\": 0,\n",
    "                \"hasmed_elective\": 0,\n",
    "            }\n",
    "\n",
    "        if course_category in credits_summary[student_id]:\n",
    "            credits_summary[student_id][course_category] += course_credits\n",
    "\n",
    "eligible_roll_numbers = []\n",
    "for student_id, earned_credits in credits_summary.items():\n",
    "    if all(\n",
    "        earned_credits.get(req_type, 0) >= graduation_requirements[req_type]\n",
    "        for req_type in graduation_requirements\n",
    "    ):\n",
    "        eligible_roll_numbers.append(student_id)\n",
    "\n",
    "print(\"Roll numbers of students meeting graduation requirements:\")\n",
    "print(eligible_roll_numbers)\n"
   ]
  },
  {
   "cell_type": "markdown",
   "metadata": {},
   "source": [
    "#### 2.d: Print out the roll numbers of all students who completed a minor \n",
    "Atleast 10 credits with minor tag in a specific department"
   ]
  },
  {
   "cell_type": "code",
   "execution_count": 39,
   "metadata": {},
   "outputs": [
    {
     "name": "stdout",
     "output_type": "stream",
     "text": [
      "Roll numbers of students who completed a minor:\n",
      "['358405', '180828', '981238', '847809', '270007', '781075', '986057', '124663', '364146', '517837', '721490', '150503', '571782', '716985', '194063', '265922', '482623', '329535', '207443', '810863', '973158', '143142', '970791', '907454', '888886', '608522', '608952', '143856', '773982', '960395', '283796', '461584', '879634', '597353', '845623', '465496', '718510', '534763', '680096', '836881', '787967', '344265', '581858', '391848', '485484', '775967', '138296', '381526', '681499', '816041', '971123', '199713', '630568', '379479', '362471', '703403', '388969', '836431', '582912', '381227', '478606', '159438', '733782', '782129', '144528', '851029', '881983', '458200', '998293', '628849', '995208', '613401', '301135', '500658', '488661', '788020', '626000', '955757', '841365', '750259', '572815', '521087', '214270', '461971', '692318', '145372', '588946', '834515', '208100', '871746', '327122', '581065', '203200', '294697', '993835', '282482']\n"
     ]
    }
   ],
   "source": [
    "import csv\n",
    "\n",
    "csv_path = r\"C:\\Users\\divya\\Downloads\\student_records.csv\"\n",
    "\n",
    "minor_course_credits = {}\n",
    "\n",
    "with open(csv_path, \"r\") as csv_file:\n",
    "    csv_reader = csv.DictReader(csv_file)\n",
    "    for record in csv_reader:\n",
    "        student_id = record[\"roll_number\"]\n",
    "        dept = record[\"department\"]\n",
    "        course_category = record[\"course_type\"]\n",
    "        credit_hours = int(record[\"credit\"])\n",
    "\n",
    "        if course_category == \"minor\":\n",
    "            if student_id not in minor_course_credits:\n",
    "                minor_course_credits[student_id] = {}\n",
    "\n",
    "            if dept not in minor_course_credits[student_id]:\n",
    "                minor_course_credits[student_id][dept] = 0\n",
    "\n",
    "            minor_course_credits[student_id][dept] += credit_hours\n",
    "\n",
    "students_with_minors = []\n",
    "for student_id, dept_credits in minor_course_credits.items():\n",
    "    for dept, total_credits in dept_credits.items():\n",
    "        if total_credits >= 10:\n",
    "            students_with_minors.append(student_id)\n",
    "            break\n",
    "\n",
    "print(\"Roll numbers of students who completed a minor:\")\n",
    "print(students_with_minors)\n"
   ]
  },
  {
   "cell_type": "markdown",
   "metadata": {},
   "source": [
    "#### 2.e: Print out the roll numbers of all students who completed a honours\n",
    "Atleast 10 credits with honours tag and 20 core credits"
   ]
  },
  {
   "cell_type": "code",
   "execution_count": 40,
   "metadata": {},
   "outputs": [
    {
     "name": "stdout",
     "output_type": "stream",
     "text": [
      "Roll numbers of students who completed an honours:\n",
      "['588946', '145372', '834515', '781075', '836881', '310604', '773982', '500658', '810863', '124663', '364146', '871746', '986057', '718510', '379479', '582912', '788020', '613401', '144528', '485484', '199713', '845623', '150503', '214270', '517837', '482623', '721490', '955757', '589528', '143856', '571782', '973158', '703403', '960395', '521087', '461971', '879634', '716985', '265922', '283796', '203200', '327122', '534763', '391848', '971123', '207443', '488661', '782129', '928288', '581858', '282482', '572815', '608952', '628849', '630568', '388969', '159438', '870642', '970791', '143142', '998293', '681499', '888886', '608522', '362471', '465496', '208100', '692318', '626000', '458200', '581065', '787967', '750259', '881983', '294697']\n"
     ]
    }
   ],
   "source": [
    "import csv\n",
    "\n",
    "csv_file_path = r\"C:\\Users\\divya\\Downloads\\student_records.csv\"\n",
    "\n",
    "credits_by_student = {}\n",
    "\n",
    "with open(csv_file_path, \"r\") as file:\n",
    "    csv_reader = csv.DictReader(file)\n",
    "    for record in csv_reader:\n",
    "        student_id = record[\"roll_number\"]\n",
    "        course_category = record[\"course_type\"]\n",
    "        course_credit = int(record[\"credit\"])\n",
    "\n",
    "        if student_id not in credits_by_student:\n",
    "            credits_by_student[student_id] = {\"honours\": 0, \"core\": 0}\n",
    "\n",
    "        if course_category in credits_by_student[student_id]:\n",
    "            credits_by_student[student_id][course_category] += course_credit\n",
    "\n",
    "honours_eligible_students = []\n",
    "for student_id, credit_summary in credits_by_student.items():\n",
    "    if credit_summary[\"honours\"] >= 10 and credit_summary[\"core\"] >= 20:\n",
    "        honours_eligible_students.append(student_id)\n",
    "\n",
    "print(\"Roll numbers of students who completed an honours:\")\n",
    "print(honours_eligible_students)"
   ]
  },
  {
   "cell_type": "markdown",
   "metadata": {},
   "source": [
    "# **SciPy** "
   ]
  },
  {
   "cell_type": "markdown",
   "metadata": {},
   "source": [
    "## Part A\n",
    "Minimize the function $f(x, y) = 2(x - y - 3)^2 + 4(x + 2y + 1)^4$.<br>\n",
    "With the constraints : $ x - y \\ge -3, (x + 2)^2 + (y + 1)^2 \\le 5$ <br>\n",
    "Using scipy.optimize.minimize with constraints. (Hint: Look at the examples in the official documentation)"
   ]
  },
  {
   "cell_type": "code",
   "execution_count": 44,
   "metadata": {},
   "outputs": [
    {
     "name": "stdout",
     "output_type": "stream",
     "text": [
      "Optimization was successful!\n",
      "Optimal value of x and y: [ 0.23492503 -0.92851489]\n",
      "Minimum value of the objective function: 7.345026216976594\n"
     ]
    }
   ],
   "source": [
    "from scipy.optimize import minimize\n",
    "\n",
    "def target_function(values):\n",
    "    return 2 * (values[0] - values[1] - 3)**2 + 4 * (values[0] + 2 * values[1] + 1)**4\n",
    "\n",
    "constraints = [\n",
    "    {'type': 'ineq', 'fun': lambda v: v[0] - v[1] + 3},\n",
    "    {'type': 'ineq', 'fun': lambda v: 5 - ((v[0] + 2)**2 + (v[1] + 1)**2)}\n",
    "]\n",
    "\n",
    "guess = [0, 0]\n",
    "\n",
    "result = minimize(target_function, guess, method='SLSQP', constraints=constraints)\n",
    "\n",
    "if result.success:\n",
    "    print(\"Optimization was successful!\")\n",
    "    print(f\"Optimal value of x and y: {result.x}\")\n",
    "    print(f\"Minimum value of the objective function: {result.fun}\")\n",
    "else:\n",
    "    print(\"Optimization failed!\")\n",
    "    print(f\"Reason: {result.message}\")\n",
    "\n"
   ]
  },
  {
   "cell_type": "markdown",
   "metadata": {},
   "source": [
    "# Part B\n",
    "Evaluate the line integral of the function $f(x, y) = x^2 + y^4$ along the circle $ x^2 + y^2 = 3 $ anticlockwise (scalar integral, not vector). You must use scipy for integration but you may use parameterization"
   ]
  },
  {
   "cell_type": "code",
   "execution_count": 43,
   "metadata": {},
   "outputs": [
    {
     "name": "stdout",
     "output_type": "stream",
     "text": [
      "The value of the line integral is: 53.0536\n"
     ]
    }
   ],
   "source": [
    "import numpy as np\n",
    "from scipy.integrate import quad\n",
    "\n",
    "def parametric_integral(theta):\n",
    "    r = 3**0.5\n",
    "    x = r * np.cos(theta)\n",
    "    y = r * np.sin(theta)\n",
    "    function_value = x**2 + y**4\n",
    "    arc_length = r\n",
    "    return function_value * arc_length\n",
    "\n",
    "integral_value, integration_error = quad(parametric_integral, 0, 2 * np.pi)\n",
    "\n",
    "print(f\"The value of the line integral is: {integral_value:.4f}\")\n"
   ]
  },
  {
   "cell_type": "markdown",
   "metadata": {},
   "source": [
    "# **Numpy**"
   ]
  },
  {
   "cell_type": "markdown",
   "metadata": {},
   "source": [
    "### Read Lisan_Al_Gaib.pdf for problem description and complete the following functions"
   ]
  },
  {
   "cell_type": "code",
   "execution_count": 47,
   "metadata": {},
   "outputs": [],
   "source": [
    "import time \n",
    "import numpy as np\n",
    "import matplotlib.pyplot as plt"
   ]
  },
  {
   "cell_type": "code",
   "execution_count": 48,
   "metadata": {},
   "outputs": [],
   "source": [
    "### TODO 1\n",
    "def load_data(data_path):\n",
    "    try:\n",
    "        loaded_data = np.loadtxt(data_path, delimiter=\",\")\n",
    "        return loaded_data\n",
    "    except Exception as error:\n",
    "        print(f\"Error loading data from {data_path}: {error}\")\n",
    "        return None"
   ]
  },
  {
   "cell_type": "code",
   "execution_count": 49,
   "metadata": {},
   "outputs": [],
   "source": [
    "### TODO 2.1\n",
    "def initialise_centers(data, K, init_centers=None):\n",
    "    if init_centers is None:\n",
    "        indices = np.random.choice(data.shape[0], size=K, replace=False)\n",
    "        return data[indices]\n",
    "    return init_centers\n",
    "\n"
   ]
  },
  {
   "cell_type": "code",
   "execution_count": 50,
   "metadata": {},
   "outputs": [],
   "source": [
    "### TODO 2.2\n",
    "def initialise_labels(data):\n",
    "    return np.ones(len(data), dtype=int)\n"
   ]
  },
  {
   "cell_type": "code",
   "execution_count": 51,
   "metadata": {},
   "outputs": [],
   "source": [
    "### TODO 3.1 : E step\n",
    "def calculate_distances(data, centers):\n",
    "    return np.sqrt(((data[:, np.newaxis] - centers[np.newaxis, :])**2).sum(axis=2))\n",
    "\n"
   ]
  },
  {
   "cell_type": "code",
   "execution_count": 52,
   "metadata": {},
   "outputs": [],
   "source": [
    "### TODO 3.2\n",
    "def update_labels(distances):\n",
    "    return np.argmin(distances, axis=1)"
   ]
  },
  {
   "cell_type": "code",
   "execution_count": 53,
   "metadata": {},
   "outputs": [],
   "source": [
    "### TODO 4 : M step\n",
    "def update_centers(data, labels, K):\n",
    "    return np.vstack([data[labels == cluster_idx].mean(axis=0) for cluster_idx in range(K)])\n",
    "\n",
    "\n"
   ]
  },
  {
   "cell_type": "code",
   "execution_count": 54,
   "metadata": {},
   "outputs": [],
   "source": [
    "\n",
    "### TODO 6 : Check convergence\n",
    "def check_termination(labels1, labels2):\n",
    "    return np.all(labels1 == labels2)"
   ]
  },
  {
   "cell_type": "code",
   "execution_count": 55,
   "metadata": {},
   "outputs": [],
   "source": [
    "### DON'T CHANGE ANYTHING IN THE FOLLOWING FUNCTION\n",
    "def kmeans(data_path: str, K: int, init_centers):\n",
    "    data = load_data(data_path)\n",
    "    centers = initialise_centers(data, K, init_centers)\n",
    "    labels = initialise_labels(data)\n",
    "    start_time = time.time()\n",
    "    while True:\n",
    "        distances = calculate_distances(data, centers)\n",
    "        labels_new = update_labels(distances)\n",
    "        centers = update_centers(data, labels_new, K)\n",
    "        if check_termination(labels, labels_new):\n",
    "            break\n",
    "        else:\n",
    "            labels = labels_new\n",
    "    end_time = time.time()\n",
    "    return centers, labels, end_time - start_time"
   ]
  },
  {
   "cell_type": "code",
   "execution_count": 56,
   "metadata": {},
   "outputs": [],
   "source": [
    "### TODO 7\n",
    "def visualise(data_path, labels, centers):\n",
    "    data = load_data(data_path)\n",
    "    plt.scatter(data[:, 0], data[:, 1], c=labels, cmap='viridis', s=50)\n",
    "    plt.scatter(centers[:, 0], centers[:, 1], color='black', s=200, alpha=0.7)\n",
    "    plt.title('K-means clustering')\n",
    "    plt.xlabel('Longitude')\n",
    "    plt.ylabel('Latitude')\n",
    "    plt.savefig('kmeans.png')\n",
    "    plt.show()\n",
    "\n"
   ]
  },
  {
   "cell_type": "code",
   "execution_count": 57,
   "metadata": {},
   "outputs": [
    {
     "name": "stdout",
     "output_type": "stream",
     "text": [
      "Time taken for the algorithm to converge: 0.0\n"
     ]
    },
    {
     "data": {
      "image/png": "[encoded data removed]",
      "text/plain": [
       "<Figure size 640x480 with 1 Axes>"
      ]
     },
     "metadata": {},
     "output_type": "display_data"
    }
   ],
   "source": [
    "### After you have completed the above functions, run the following code to generate the plot\n",
    "data_path = r\"C:\\Users\\divya\\Downloads\\spice_locations.txt\"\n",
    "r\"C:\\Users\\divya\\Downloads\\student_records.csv\"\n",
    "K, init_centers = 2, None\n",
    "centers, labels, time_taken = kmeans(data_path, K, init_centers)\n",
    "print('Time taken for the algorithm to converge:', time_taken)\n",
    "visualise(data_path, labels, centers)\n"
   ]
  }
 ],
 "metadata": {
  "kernelspec": {
   "display_name": "base",
   "language": "python",
   "name": "python3"
  },
  "language_info": {
   "codemirror_mode": {
    "name": "ipython",
    "version": 3
   },
   "file_extension": ".py",
   "mimetype": "text/x-python",
   "name": "python",
   "nbconvert_exporter": "python",
   "pygments_lexer": "ipython3",
   "version": "3.12.4"
  }
 },
 "nbformat": 4,
 "nbformat_minor": 2
}
